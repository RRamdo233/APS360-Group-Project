{
 "cells": [
  {
   "cell_type": "code",
   "execution_count": 1,
   "metadata": {},
   "outputs": [],
   "source": [
    "import torch\n",
    "import torch.nn as nn\n",
    "import torch.nn.functional as F\n",
    "import torch.optim as optim\n",
    "import numpy as np\n",
    "import matplotlib.pyplot as plt\n",
    "import pandas as pd\n",
    "import cv2\n",
    "import os"
   ]
  },
  {
   "cell_type": "code",
   "execution_count": 2,
   "metadata": {},
   "outputs": [],
   "source": [
    "runs_list = next(os.walk('./Data/Images'))[1]"
   ]
  },
  {
   "cell_type": "code",
   "execution_count": 3,
   "metadata": {},
   "outputs": [],
   "source": [
    "path = \"./Data/Labels.csv\"\n",
    "header = ['Run','AD']\n",
    "Labelsdf = pd.read_csv(path, names=header, usecols=[1,2], skiprows=1, index_col=False)"
   ]
  },
  {
   "cell_type": "code",
   "execution_count": 4,
   "metadata": {},
   "outputs": [],
   "source": [
    "labels_dict = dict(zip(Labelsdf.Run, Labelsdf.AD))"
   ]
  },
  {
   "cell_type": "code",
   "execution_count": 5,
   "metadata": {},
   "outputs": [
    {
     "data": {
      "text/plain": [
       "1"
      ]
     },
     "execution_count": 5,
     "metadata": {},
     "output_type": "execute_result"
    }
   ],
   "source": [
    "labels_dict['sub-OAS30019_ses-d0376']"
   ]
  },
  {
   "cell_type": "code",
   "execution_count": 6,
   "metadata": {},
   "outputs": [
    {
     "ename": "KeyboardInterrupt",
     "evalue": "",
     "output_type": "error",
     "traceback": [
      "\u001b[1;31m---------------------------------------------------------------------------\u001b[0m",
      "\u001b[1;31mKeyboardInterrupt\u001b[0m                         Traceback (most recent call last)",
      "\u001b[1;32m<ipython-input-6-dfd806751237>\u001b[0m in \u001b[0;36m<module>\u001b[1;34m\u001b[0m\n\u001b[0;32m     12\u001b[0m         \u001b[0mimg_num\u001b[0m \u001b[1;33m=\u001b[0m \u001b[0mint\u001b[0m\u001b[1;33m(\u001b[0m\u001b[0mfilename\u001b[0m\u001b[1;33m[\u001b[0m\u001b[1;33m-\u001b[0m\u001b[1;36m7\u001b[0m\u001b[1;33m:\u001b[0m\u001b[1;33m-\u001b[0m\u001b[1;36m4\u001b[0m\u001b[1;33m]\u001b[0m\u001b[1;33m)\u001b[0m\u001b[1;33m\u001b[0m\u001b[1;33m\u001b[0m\u001b[0m\n\u001b[0;32m     13\u001b[0m         \u001b[1;32mif\u001b[0m \u001b[1;33m(\u001b[0m\u001b[1;36m100\u001b[0m \u001b[1;33m<=\u001b[0m \u001b[0mimg_num\u001b[0m \u001b[1;33m<\u001b[0m \u001b[1;36m200\u001b[0m\u001b[1;33m)\u001b[0m\u001b[1;33m:\u001b[0m\u001b[1;33m\u001b[0m\u001b[1;33m\u001b[0m\u001b[0m\n\u001b[1;32m---> 14\u001b[1;33m             \u001b[0mimg_slice\u001b[0m \u001b[1;33m=\u001b[0m \u001b[0mcv2\u001b[0m\u001b[1;33m.\u001b[0m\u001b[0mimread\u001b[0m\u001b[1;33m(\u001b[0m\u001b[0mos\u001b[0m\u001b[1;33m.\u001b[0m\u001b[0mpath\u001b[0m\u001b[1;33m.\u001b[0m\u001b[0mjoin\u001b[0m\u001b[1;33m(\u001b[0m\u001b[0mrun_dir\u001b[0m\u001b[1;33m,\u001b[0m \u001b[0mfilename\u001b[0m\u001b[1;33m)\u001b[0m\u001b[1;33m,\u001b[0m \u001b[0mcv2\u001b[0m\u001b[1;33m.\u001b[0m\u001b[0mIMREAD_GRAYSCALE\u001b[0m\u001b[1;33m)\u001b[0m\u001b[1;33m\u001b[0m\u001b[1;33m\u001b[0m\u001b[0m\n\u001b[0m\u001b[0;32m     15\u001b[0m             \u001b[1;31m#print(img_slice)\u001b[0m\u001b[1;33m\u001b[0m\u001b[1;33m\u001b[0m\u001b[1;33m\u001b[0m\u001b[0m\n\u001b[0;32m     16\u001b[0m             \u001b[0mimg_slice\u001b[0m \u001b[1;33m=\u001b[0m \u001b[0mcv2\u001b[0m\u001b[1;33m.\u001b[0m\u001b[0mresize\u001b[0m\u001b[1;33m(\u001b[0m\u001b[0mimg_slice\u001b[0m\u001b[1;33m,\u001b[0m \u001b[1;33m(\u001b[0m\u001b[1;36m0\u001b[0m\u001b[1;33m,\u001b[0m\u001b[1;36m0\u001b[0m\u001b[1;33m)\u001b[0m\u001b[1;33m,\u001b[0m \u001b[0mfx\u001b[0m\u001b[1;33m=\u001b[0m\u001b[1;36m1\u001b[0m\u001b[1;33m/\u001b[0m\u001b[0mimg_scale\u001b[0m\u001b[1;33m,\u001b[0m \u001b[0mfy\u001b[0m\u001b[1;33m=\u001b[0m\u001b[1;36m1\u001b[0m\u001b[1;33m/\u001b[0m\u001b[0mimg_scale\u001b[0m\u001b[1;33m,\u001b[0m \u001b[0minterpolation\u001b[0m\u001b[1;33m=\u001b[0m\u001b[0mcv2\u001b[0m\u001b[1;33m.\u001b[0m\u001b[0mINTER_AREA\u001b[0m\u001b[1;33m)\u001b[0m\u001b[1;33m\u001b[0m\u001b[1;33m\u001b[0m\u001b[0m\n",
      "\u001b[1;31mKeyboardInterrupt\u001b[0m: "
     ]
    }
   ],
   "source": [
    "img_dir = \"./Data/Images\"\n",
    "low_bound = 100\n",
    "high_bound = 200\n",
    "img_scale = 4\n",
    "depth_scale = 4\n",
    "#list of tuples (image data, AD)\n",
    "all_data = []\n",
    "for run in runs_list:\n",
    "    run_dir = os.path.join(img_dir, run)\n",
    "    run_imgs = []\n",
    "    for filename in os.listdir(run_dir):\n",
    "        img_num = int(filename[-7:-4])\n",
    "        if (100 <= img_num < 200):\n",
    "            img_slice = cv2.imread(os.path.join(run_dir, filename), cv2.IMREAD_GRAYSCALE)\n",
    "            #print(img_slice)\n",
    "            img_slice = cv2.resize(img_slice, (0,0), fx=1/img_scale, fy=1/img_scale, interpolation=cv2.INTER_AREA)\n",
    "            run_imgs.append(img_slice)\n",
    "\n",
    "    temp_arr = np.array(run_imgs)\n",
    "    \n",
    "    if temp_arr.size == 0:\n",
    "        print(run)\n",
    "        continue\n",
    "    \n",
    "    final_slices = []\n",
    "    #print(temp_arr.shape[2])\n",
    "    \n",
    "    for y in range(temp_arr.shape[2]):\n",
    "        xz_pane = temp_arr[:, :, y]\n",
    "        scaled_xz = cv2.resize(xz_pane, (0, 0), fy=1/depth_scale, fx=1, interpolation=cv2.INTER_AREA)\n",
    "        final_slices.append(scaled_xz)\n",
    "    \n",
    "    final_array = np.dstack(final_slices)\n",
    "    #print(final_array.shape)\n",
    "    run_tuple = (final_array, labels_dict[run])\n",
    "    all_data.append(run_tuple)\n",
    "    \n",
    "print(len(all_data), len(all_data[0]))\n",
    "    "
   ]
  },
  {
   "cell_type": "code",
   "execution_count": 7,
   "metadata": {},
   "outputs": [
    {
     "name": "stdout",
     "output_type": "stream",
     "text": [
      "sub-OAS30059_ses-d0230_run-01\n",
      "(29, 176, 256)\n",
      "sub-OAS30059_ses-d0230_run-02\n",
      "(29, 176, 256)\n",
      "sub-OAS30059_ses-d0230_run-03\n",
      "(29, 176, 256)\n",
      "sub-OAS30059_ses-d0230_run-04\n",
      "(29, 176, 256)\n",
      "sub-OAS30059_ses-d1188\n",
      "(99, 176, 160)\n",
      "sub-OAS30109_ses-d0270\n",
      "(99, 176, 160)\n",
      "sub-OAS30119_ses-d1209_run-01\n",
      "(29, 176, 256)\n",
      "sub-OAS30119_ses-d1209_run-02\n",
      "(29, 176, 256)\n",
      "sub-OAS30119_ses-d1209_run-03\n",
      "(29, 176, 256)\n",
      "sub-OAS30249_ses-d0091_run-01\n",
      "(29, 176, 256)\n",
      "sub-OAS30249_ses-d0091_run-02\n",
      "(29, 176, 256)\n",
      "sub-OAS30249_ses-d0091_run-03\n",
      "(29, 176, 256)\n",
      "sub-OAS30249_ses-d0749\n",
      "(99, 176, 160)\n",
      "sub-OAS30259_ses-d0000_run-01\n",
      "(29, 176, 256)\n",
      "sub-OAS30259_ses-d0000_run-02\n",
      "(29, 176, 256)\n",
      "sub-OAS30259_ses-d0000_run-03\n",
      "(29, 176, 256)\n",
      "sub-OAS30259_ses-d0679_run-01\n",
      "(29, 176, 256)\n",
      "sub-OAS30259_ses-d0679_run-02\n",
      "(29, 176, 256)\n",
      "sub-OAS30259_ses-d0679_run-03\n",
      "(29, 176, 256)\n",
      "sub-OAS30369_ses-d2819_run-01\n",
      "(29, 176, 256)\n",
      "sub-OAS30369_ses-d2819_run-02\n",
      "(29, 176, 256)\n",
      "sub-OAS30369_ses-d2819_run-03\n",
      "(29, 176, 256)\n",
      "sub-OAS30379_ses-d1169_run-01\n",
      "(29, 176, 256)\n",
      "sub-OAS30379_ses-d1169_run-02\n",
      "(29, 176, 256)\n",
      "sub-OAS30379_ses-d1169_run-03\n",
      "(29, 176, 256)\n",
      "sub-OAS30459_ses-d0078_run-01\n",
      "(29, 176, 256)\n",
      "sub-OAS30459_ses-d0078_run-02\n",
      "(29, 176, 256)\n",
      "sub-OAS30459_ses-d0078_run-03\n",
      "(29, 176, 256)\n",
      "sub-OAS30459_ses-d0571_run-01\n",
      "(29, 176, 256)\n",
      "sub-OAS30459_ses-d0571_run-02\n",
      "(29, 176, 256)\n",
      "sub-OAS30459_ses-d0571_run-03\n",
      "(29, 176, 256)\n",
      "sub-OAS30539_ses-d0154_run-01\n",
      "(29, 176, 256)\n",
      "sub-OAS30539_ses-d0154_run-02\n",
      "(29, 176, 256)\n",
      "sub-OAS30539_ses-d0154_run-03\n",
      "(29, 176, 256)\n",
      "sub-OAS30539_ses-d0640_run-01\n",
      "(29, 176, 256)\n",
      "sub-OAS30539_ses-d0640_run-02\n",
      "(29, 176, 256)\n",
      "sub-OAS30539_ses-d0640_run-03\n",
      "(29, 176, 256)\n",
      "sub-OAS30669_ses-d2733_run-01\n",
      "(29, 176, 256)\n",
      "sub-OAS30669_ses-d2733_run-02\n",
      "(29, 176, 256)\n",
      "sub-OAS30669_ses-d2733_run-03\n",
      "(29, 176, 256)\n",
      "sub-OAS30689_ses-d2082_run-01\n",
      "(29, 176, 256)\n",
      "sub-OAS30689_ses-d2082_run-02\n",
      "(29, 176, 256)\n",
      "sub-OAS30689_ses-d2082_run-03\n",
      "(29, 176, 256)\n",
      "sub-OAS30699_ses-d0108_run-01\n",
      "(29, 176, 256)\n",
      "sub-OAS30699_ses-d0108_run-02\n",
      "(29, 176, 256)\n",
      "sub-OAS30699_ses-d0108_run-03\n",
      "(29, 176, 256)\n",
      "sub-OAS30709_ses-d0026_run-01\n",
      "(29, 176, 256)\n",
      "sub-OAS30709_ses-d0026_run-02\n",
      "(29, 176, 256)\n",
      "sub-OAS30709_ses-d0026_run-03\n",
      "(29, 176, 256)\n",
      "sub-OAS30709_ses-d0026_run-04\n",
      "(29, 176, 256)\n",
      "sub-OAS30709_ses-d0885\n",
      "(99, 176, 160)\n",
      "sub-OAS30829_ses-d5823_run-01\n",
      "(29, 176, 256)\n",
      "sub-OAS30829_ses-d5823_run-02\n",
      "(29, 176, 256)\n",
      "sub-OAS30829_ses-d5823_run-03\n",
      "(29, 176, 256)\n",
      "sub-OAS30829_ses-d6357_run-01\n",
      "(29, 176, 256)\n",
      "sub-OAS30829_ses-d6357_run-02\n",
      "(29, 176, 256)\n",
      "sub-OAS30829_ses-d6357_run-03\n",
      "(29, 176, 256)\n",
      "sub-OAS30919_ses-d0035_run-01\n",
      "(29, 176, 256)\n",
      "sub-OAS30919_ses-d0035_run-02\n",
      "(29, 176, 256)\n",
      "sub-OAS30919_ses-d0035_run-03\n",
      "(29, 176, 256)\n",
      "sub-OAS30959_ses-d0123\n",
      "(99, 176, 160)\n",
      "sub-OAS30969_ses-d0047_run-01\n",
      "(29, 176, 256)\n",
      "sub-OAS30969_ses-d0047_run-02\n",
      "(29, 176, 256)\n",
      "sub-OAS30969_ses-d0047_run-03\n",
      "(29, 176, 256)\n",
      "sub-OAS31049_ses-d0575_run-01\n",
      "(29, 176, 256)\n",
      "sub-OAS31049_ses-d0575_run-02\n",
      "(29, 176, 256)\n",
      "sub-OAS31049_ses-d0575_run-03\n",
      "(29, 176, 256)\n",
      "sub-OAS31049_ses-d0575_run-04\n",
      "(29, 176, 256)\n",
      "sub-OAS31049_ses-d1066_run-01\n",
      "(29, 176, 256)\n",
      "sub-OAS31049_ses-d1066_run-02\n",
      "(29, 176, 256)\n",
      "sub-OAS31049_ses-d1066_run-03\n",
      "(29, 176, 256)\n",
      "sub-OAS31099_ses-d0086\n",
      "(99, 176, 160)\n",
      "sub-OAS31109_ses-d0000_run-01\n",
      "(29, 176, 256)\n",
      "sub-OAS31109_ses-d0000_run-02\n",
      "(29, 176, 256)\n",
      "sub-OAS31109_ses-d0000_run-03\n",
      "(29, 176, 256)\n",
      "255 2\n"
     ]
    }
   ],
   "source": [
    "# BASELINE RGB\n",
    "img_dir = \"./Data/Images\"\n",
    "low_bound = 100\n",
    "high_bound = 200\n",
    "img_scale = 1\n",
    "depth_scale = 33\n",
    "#list of tuples (image data, AD)\n",
    "all_data = []\n",
    "for run in runs_list:\n",
    "    run_dir = os.path.join(img_dir, run)\n",
    "    run_imgs = []\n",
    "    for filename in os.listdir(run_dir):\n",
    "        img_num = int(filename[-7:-4])\n",
    "        if (100 <= img_num < 199):\n",
    "            img_slice = cv2.imread(os.path.join(run_dir, filename), cv2.IMREAD_GRAYSCALE)\n",
    "            #print(img_slice)\n",
    "            #img_slice = cv2.resize(img_slice, (0,0), fx=1/img_scale, fy=1/img_scale, interpolation=cv2.INTER_AREA)\n",
    "            img_slice = img_slice[40:216,:]\n",
    "            run_imgs.append(img_slice)\n",
    "\n",
    "    temp_arr = np.array(run_imgs)\n",
    "    \n",
    "    if temp_arr.size == 0 or not temp_arr.shape[1] == 176 or not temp_arr.shape[2] == 176:\n",
    "        print(run)\n",
    "        print(temp_arr.shape)\n",
    "        continue\n",
    "    \n",
    "    final_slices = []\n",
    "    #print(temp_arr.shape[2])\n",
    "    \n",
    "    for y in range(temp_arr.shape[2]):\n",
    "        xz_pane = temp_arr[:, :, y]\n",
    "        scaled_xz = cv2.resize(xz_pane, (0, 0), fy=1/depth_scale, fx=1, interpolation=cv2.INTER_AREA)\n",
    "        final_slices.append(scaled_xz)\n",
    "    \n",
    "    if not len(final_slices[0]) == 3:\n",
    "        continue\n",
    "    \n",
    "    final_array = torch.from_numpy(np.dstack(final_slices)).float()\n",
    "    #print(final_array.shape)\n",
    "    run_tuple = (final_array, labels_dict[run])\n",
    "    all_data.append(run_tuple)\n",
    "    \n",
    "print(len(all_data), len(all_data[0]))\n",
    "    "
   ]
  },
  {
   "cell_type": "code",
   "execution_count": 113,
   "metadata": {},
   "outputs": [
    {
     "data": {
      "text/plain": [
       "176"
      ]
     },
     "execution_count": 113,
     "metadata": {},
     "output_type": "execute_result"
    }
   ],
   "source": [
    "temp_arr.shape[1]"
   ]
  },
  {
   "cell_type": "code",
   "execution_count": 8,
   "metadata": {},
   "outputs": [],
   "source": [
    "from torch.utils.data import Dataset, DataLoader\n",
    "\n",
    "class T1Dataset(Dataset):\n",
    "    def __init__(self, data, transform=None):\n",
    "        # list of tuples (3d image arrays, AD label)\n",
    "        self.data = data\n",
    "        # labels.csv\n",
    "        #self.target = torch.from_numpy(target).long()\n",
    "        #self.transform = transforms.Compose([transforms.ToTensor()])\n",
    "        self.transform = transform\n",
    "        \n",
    "    def __len__(self):\n",
    "        return len(self.data)\n",
    "    \n",
    "    def __getitem__(self, index):\n",
    "        #scan = torch.from_numpy(self.data[index][0]).float()\n",
    "        scan = self.data[index][0]\n",
    "        y = self.data[index][1]\n",
    "        return scan, y"
   ]
  },
  {
   "cell_type": "code",
   "execution_count": 9,
   "metadata": {},
   "outputs": [],
   "source": [
    "scan_dataset = T1Dataset(all_data, None)"
   ]
  },
  {
   "cell_type": "code",
   "execution_count": 16,
   "metadata": {},
   "outputs": [],
   "source": [
    "def train(model, dataset, num_epochs=10, batch_size=32, learning_rate=1e-4):\n",
    "    criterion = nn.BCEWithLogitsLoss()\n",
    "    # use Adam for CNN\n",
    "    optimizer = torch.optim.Adam(model.parameters(), lr=learning_rate)\n",
    "    epochs, train_losses, val_losses, train_acc, val_acc = [], [], [], [], []\n",
    "    \n",
    "    train_loader = DataLoader(dataset, batch_size, shuffle=True)\n",
    "    \n",
    "    loss = 0\n",
    "    \n",
    "    for epoch in range(num_epochs):\n",
    "        for i, (inputs, labels) in enumerate(train_loader):\n",
    "            outputs = model(inputs)\n",
    "            loss = criterion(outputs, labels.float())\n",
    "            loss.backward(retain_graph=True)\n",
    "            optimizer.step()\n",
    "            optimizer.zero_grad()\n",
    "\n",
    "        epochs.append(epoch)\n",
    "        train_losses.append(loss)\n",
    "        \n",
    "        print(f\"Epoch: {epoch} Training Loss: {train_losses[-1]}\")\n",
    "    \n",
    "    plt.title(\"Training Curve\")\n",
    "    plt.plot(epochs, train_losses, label=\"Train\")\n",
    "    plt.xlabel(\"Epochs\")\n",
    "    plt.ylabel(\"Loss\")\n",
    "    plt.legend(loc='best')\n",
    "    plt.show()\n",
    "    \n",
    "    print(\"Final Training Loss: {}\".format(train_losses[-1]))"
   ]
  },
  {
   "cell_type": "code",
   "execution_count": 11,
   "metadata": {},
   "outputs": [],
   "source": [
    "import torchvision.models\n",
    "\n",
    "alexnet = torchvision.models.alexnet(pretrained=True)\n",
    "#scan_dataset = T1Dataset(all_data, None)\n",
    "\n",
    "dataset_list = list(scan_dataset)\n",
    "\n",
    "imgs, labels = next(iter(torch.utils.data.DataLoader(dataset_list, batch_size=len(dataset_list), shuffle=True)))\n",
    "imgs = imgs.float()\n",
    "features = alexnet.features(imgs)"
   ]
  },
  {
   "cell_type": "code",
   "execution_count": 12,
   "metadata": {},
   "outputs": [],
   "source": [
    "features_list = []\n",
    "for i in range(features.shape[0]):\n",
    "    features_list.append((features[i], labels[i]))"
   ]
  },
  {
   "cell_type": "code",
   "execution_count": 13,
   "metadata": {},
   "outputs": [
    {
     "name": "stdout",
     "output_type": "stream",
     "text": [
      "torch.Size([256, 4, 4])\n"
     ]
    }
   ],
   "source": [
    "print(features_list[0][0].shape)"
   ]
  },
  {
   "cell_type": "code",
   "execution_count": 14,
   "metadata": {},
   "outputs": [],
   "source": [
    "class CNN2(nn.Module):\n",
    "    def __init__(self):\n",
    "        super(CNN2, self).__init__()\n",
    "        self.name = \"CNN2\"\n",
    "        # 256x6x6\n",
    "        self.fc1 = nn.Linear(256*4*4, 1024)\n",
    "        nn.init.xavier_uniform(self.fc1.weight)\n",
    "        #self.fc1 = nn.Linear(3*224*224, 512)\n",
    "        self.fc2 = nn.Linear(1024, 512)\n",
    "        nn.init.xavier_uniform(self.fc2.weight)\n",
    "        self.fc3 = nn.Linear(512, 64)\n",
    "        nn.init.xavier_uniform(self.fc3.weight)\n",
    "        self.fc4 = nn.Linear(64, 1)\n",
    "        nn.init.xavier_uniform(self.fc4.weight)\n",
    "        #self.softmax = nn.Softmax()\n",
    "\n",
    "    def forward(self, x):\n",
    "        x = x.view(-1, 256*4*4)\n",
    "        #x = x.view(-1, 3*224*224)\n",
    "        x = F.relu(self.fc1(x))\n",
    "        #print(x.shape)\n",
    "        x = F.relu(self.fc2(x))\n",
    "        #print(x.shape)\n",
    "        x = F.relu(self.fc3(x))\n",
    "        #print(x.shape)\n",
    "        x = self.fc4(x)\n",
    "        #x = self.softmax(x)\n",
    "        x = x.squeeze(1) # Flatten to [batch_size]\n",
    "        return x"
   ]
  },
  {
   "cell_type": "code",
   "execution_count": 17,
   "metadata": {},
   "outputs": [
    {
     "name": "stderr",
     "output_type": "stream",
     "text": [
      "C:\\ProgramData\\Anaconda3\\lib\\site-packages\\ipykernel_launcher.py:7: UserWarning: nn.init.xavier_uniform is now deprecated in favor of nn.init.xavier_uniform_.\n",
      "  import sys\n",
      "C:\\ProgramData\\Anaconda3\\lib\\site-packages\\ipykernel_launcher.py:10: UserWarning: nn.init.xavier_uniform is now deprecated in favor of nn.init.xavier_uniform_.\n",
      "  # Remove the CWD from sys.path while we load stuff.\n",
      "C:\\ProgramData\\Anaconda3\\lib\\site-packages\\ipykernel_launcher.py:12: UserWarning: nn.init.xavier_uniform is now deprecated in favor of nn.init.xavier_uniform_.\n",
      "  if sys.path[0] == '':\n",
      "C:\\ProgramData\\Anaconda3\\lib\\site-packages\\ipykernel_launcher.py:14: UserWarning: nn.init.xavier_uniform is now deprecated in favor of nn.init.xavier_uniform_.\n",
      "  \n"
     ]
    },
    {
     "ename": "RuntimeError",
     "evalue": "Trying to backward through the graph a second time, but the buffers have already been freed. Specify retain_graph=True when calling backward the first time.",
     "output_type": "error",
     "traceback": [
      "\u001b[1;31m---------------------------------------------------------------------------\u001b[0m",
      "\u001b[1;31mRuntimeError\u001b[0m                              Traceback (most recent call last)",
      "\u001b[1;32m<ipython-input-17-61b510215829>\u001b[0m in \u001b[0;36m<module>\u001b[1;34m\u001b[0m\n\u001b[0;32m      1\u001b[0m \u001b[0malexnetCNN2\u001b[0m \u001b[1;33m=\u001b[0m \u001b[0mCNN2\u001b[0m\u001b[1;33m(\u001b[0m\u001b[1;33m)\u001b[0m\u001b[1;33m\u001b[0m\u001b[1;33m\u001b[0m\u001b[0m\n\u001b[1;32m----> 2\u001b[1;33m \u001b[0mtrain\u001b[0m\u001b[1;33m(\u001b[0m\u001b[0malexnetCNN2\u001b[0m\u001b[1;33m,\u001b[0m \u001b[0mfeatures_list\u001b[0m\u001b[1;33m,\u001b[0m \u001b[0mnum_epochs\u001b[0m\u001b[1;33m=\u001b[0m\u001b[1;36m10\u001b[0m\u001b[1;33m,\u001b[0m \u001b[0mbatch_size\u001b[0m\u001b[1;33m=\u001b[0m\u001b[1;36m32\u001b[0m\u001b[1;33m,\u001b[0m \u001b[0mlearning_rate\u001b[0m\u001b[1;33m=\u001b[0m\u001b[1;36m1e-4\u001b[0m\u001b[1;33m)\u001b[0m\u001b[1;33m\u001b[0m\u001b[1;33m\u001b[0m\u001b[0m\n\u001b[0m",
      "\u001b[1;32m<ipython-input-16-2a9c3ddc1486>\u001b[0m in \u001b[0;36mtrain\u001b[1;34m(model, dataset, num_epochs, batch_size, learning_rate)\u001b[0m\n\u001b[0;32m     13\u001b[0m             \u001b[0moutputs\u001b[0m \u001b[1;33m=\u001b[0m \u001b[0mmodel\u001b[0m\u001b[1;33m(\u001b[0m\u001b[0minputs\u001b[0m\u001b[1;33m)\u001b[0m\u001b[1;33m\u001b[0m\u001b[1;33m\u001b[0m\u001b[0m\n\u001b[0;32m     14\u001b[0m             \u001b[0mloss\u001b[0m \u001b[1;33m=\u001b[0m \u001b[0mcriterion\u001b[0m\u001b[1;33m(\u001b[0m\u001b[0moutputs\u001b[0m\u001b[1;33m,\u001b[0m \u001b[0mlabels\u001b[0m\u001b[1;33m.\u001b[0m\u001b[0mfloat\u001b[0m\u001b[1;33m(\u001b[0m\u001b[1;33m)\u001b[0m\u001b[1;33m)\u001b[0m\u001b[1;33m\u001b[0m\u001b[1;33m\u001b[0m\u001b[0m\n\u001b[1;32m---> 15\u001b[1;33m             \u001b[0mloss\u001b[0m\u001b[1;33m.\u001b[0m\u001b[0mbackward\u001b[0m\u001b[1;33m(\u001b[0m\u001b[0mretain_graph\u001b[0m\u001b[1;33m=\u001b[0m\u001b[1;32mTrue\u001b[0m\u001b[1;33m)\u001b[0m\u001b[1;33m\u001b[0m\u001b[1;33m\u001b[0m\u001b[0m\n\u001b[0m\u001b[0;32m     16\u001b[0m             \u001b[0moptimizer\u001b[0m\u001b[1;33m.\u001b[0m\u001b[0mstep\u001b[0m\u001b[1;33m(\u001b[0m\u001b[1;33m)\u001b[0m\u001b[1;33m\u001b[0m\u001b[1;33m\u001b[0m\u001b[0m\n\u001b[0;32m     17\u001b[0m             \u001b[0moptimizer\u001b[0m\u001b[1;33m.\u001b[0m\u001b[0mzero_grad\u001b[0m\u001b[1;33m(\u001b[0m\u001b[1;33m)\u001b[0m\u001b[1;33m\u001b[0m\u001b[1;33m\u001b[0m\u001b[0m\n",
      "\u001b[1;32mC:\\ProgramData\\Anaconda3\\lib\\site-packages\\torch\\tensor.py\u001b[0m in \u001b[0;36mbackward\u001b[1;34m(self, gradient, retain_graph, create_graph)\u001b[0m\n\u001b[0;32m    105\u001b[0m                 \u001b[0mproducts\u001b[0m\u001b[1;33m.\u001b[0m \u001b[0mDefaults\u001b[0m \u001b[0mto\u001b[0m\u001b[0;31m \u001b[0m\u001b[0;31m`\u001b[0m\u001b[0;31m`\u001b[0m\u001b[1;32mFalse\u001b[0m\u001b[0;31m`\u001b[0m\u001b[0;31m`\u001b[0m\u001b[1;33m.\u001b[0m\u001b[1;33m\u001b[0m\u001b[1;33m\u001b[0m\u001b[0m\n\u001b[0;32m    106\u001b[0m         \"\"\"\n\u001b[1;32m--> 107\u001b[1;33m         \u001b[0mtorch\u001b[0m\u001b[1;33m.\u001b[0m\u001b[0mautograd\u001b[0m\u001b[1;33m.\u001b[0m\u001b[0mbackward\u001b[0m\u001b[1;33m(\u001b[0m\u001b[0mself\u001b[0m\u001b[1;33m,\u001b[0m \u001b[0mgradient\u001b[0m\u001b[1;33m,\u001b[0m \u001b[0mretain_graph\u001b[0m\u001b[1;33m,\u001b[0m \u001b[0mcreate_graph\u001b[0m\u001b[1;33m)\u001b[0m\u001b[1;33m\u001b[0m\u001b[1;33m\u001b[0m\u001b[0m\n\u001b[0m\u001b[0;32m    108\u001b[0m \u001b[1;33m\u001b[0m\u001b[0m\n\u001b[0;32m    109\u001b[0m     \u001b[1;32mdef\u001b[0m \u001b[0mregister_hook\u001b[0m\u001b[1;33m(\u001b[0m\u001b[0mself\u001b[0m\u001b[1;33m,\u001b[0m \u001b[0mhook\u001b[0m\u001b[1;33m)\u001b[0m\u001b[1;33m:\u001b[0m\u001b[1;33m\u001b[0m\u001b[1;33m\u001b[0m\u001b[0m\n",
      "\u001b[1;32mC:\\ProgramData\\Anaconda3\\lib\\site-packages\\torch\\autograd\\__init__.py\u001b[0m in \u001b[0;36mbackward\u001b[1;34m(tensors, grad_tensors, retain_graph, create_graph, grad_variables)\u001b[0m\n\u001b[0;32m     91\u001b[0m     Variable._execution_engine.run_backward(\n\u001b[0;32m     92\u001b[0m         \u001b[0mtensors\u001b[0m\u001b[1;33m,\u001b[0m \u001b[0mgrad_tensors\u001b[0m\u001b[1;33m,\u001b[0m \u001b[0mretain_graph\u001b[0m\u001b[1;33m,\u001b[0m \u001b[0mcreate_graph\u001b[0m\u001b[1;33m,\u001b[0m\u001b[1;33m\u001b[0m\u001b[1;33m\u001b[0m\u001b[0m\n\u001b[1;32m---> 93\u001b[1;33m         allow_unreachable=True)  # allow_unreachable flag\n\u001b[0m\u001b[0;32m     94\u001b[0m \u001b[1;33m\u001b[0m\u001b[0m\n\u001b[0;32m     95\u001b[0m \u001b[1;33m\u001b[0m\u001b[0m\n",
      "\u001b[1;31mRuntimeError\u001b[0m: Trying to backward through the graph a second time, but the buffers have already been freed. Specify retain_graph=True when calling backward the first time."
     ]
    }
   ],
   "source": [
    "alexnetCNN2 = CNN2()\n",
    "train(alexnetCNN2, features_list, num_epochs=10, batch_size=32, learning_rate=1e-4)"
   ]
  },
  {
   "cell_type": "code",
   "execution_count": null,
   "metadata": {},
   "outputs": [],
   "source": []
  }
 ],
 "metadata": {
  "kernelspec": {
   "display_name": "Python 3",
   "language": "python",
   "name": "python3"
  },
  "language_info": {
   "codemirror_mode": {
    "name": "ipython",
    "version": 3
   },
   "file_extension": ".py",
   "mimetype": "text/x-python",
   "name": "python",
   "nbconvert_exporter": "python",
   "pygments_lexer": "ipython3",
   "version": "3.7.3"
  }
 },
 "nbformat": 4,
 "nbformat_minor": 2
}
