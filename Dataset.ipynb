{
 "cells": [
  {
   "cell_type": "code",
   "execution_count": 2,
   "metadata": {},
   "outputs": [],
   "source": [
    "import torch\n",
    "import torch.nn as nn\n",
    "import torch.nn.functional as F\n",
    "import torch.optim as optim\n",
    "import numpy as np\n",
    "import matplotlib.pyplot as plt\n",
    "import pandas as pd\n",
    "import cv2\n",
    "import os"
   ]
  },
  {
   "cell_type": "code",
   "execution_count": 26,
   "metadata": {},
   "outputs": [
    {
     "name": "stdout",
     "output_type": "stream",
     "text": [
      "cuda:0\n"
     ]
    }
   ],
   "source": [
    "# CUDA for PyTorch\n",
    "use_cuda = torch.cuda.is_available()\n",
    "device = torch.device(\"cuda:0\" if use_cuda else \"cpu\")\n",
    "print(device)\n",
    "torch.backends.cudnn.benchmark = True"
   ]
  },
  {
   "cell_type": "code",
   "execution_count": 3,
   "metadata": {},
   "outputs": [],
   "source": [
    "runs_list = next(os.walk('./Data/Images'))[1]"
   ]
  },
  {
   "cell_type": "code",
   "execution_count": 4,
   "metadata": {},
   "outputs": [],
   "source": [
    "path = \"./Data/Labels.csv\"\n",
    "header = ['Run','AD']\n",
    "Labelsdf = pd.read_csv(path, names=header, usecols=[1,2], skiprows=1, index_col=False)"
   ]
  },
  {
   "cell_type": "code",
   "execution_count": 5,
   "metadata": {},
   "outputs": [],
   "source": [
    "labels_dict = dict(zip(Labelsdf.Run, Labelsdf.AD))"
   ]
  },
  {
   "cell_type": "code",
   "execution_count": 6,
   "metadata": {},
   "outputs": [
    {
     "name": "stdout",
     "output_type": "stream",
     "text": [
      "sub-OAS30059_ses-d0230_run-01\n",
      "(29, 176, 256)\n",
      "sub-OAS30059_ses-d0230_run-02\n",
      "(29, 176, 256)\n",
      "sub-OAS30059_ses-d0230_run-03\n",
      "(29, 176, 256)\n",
      "sub-OAS30059_ses-d0230_run-04\n",
      "(29, 176, 256)\n",
      "sub-OAS30059_ses-d1188\n",
      "(99, 176, 160)\n",
      "sub-OAS30109_ses-d0270\n",
      "(99, 176, 160)\n",
      "sub-OAS30119_ses-d1209_run-01\n",
      "(29, 176, 256)\n",
      "sub-OAS30119_ses-d1209_run-02\n",
      "(29, 176, 256)\n",
      "sub-OAS30119_ses-d1209_run-03\n",
      "(29, 176, 256)\n",
      "sub-OAS30249_ses-d0091_run-01\n",
      "(29, 176, 256)\n",
      "sub-OAS30249_ses-d0091_run-02\n",
      "(29, 176, 256)\n",
      "sub-OAS30249_ses-d0091_run-03\n",
      "(29, 176, 256)\n",
      "sub-OAS30249_ses-d0749\n",
      "(99, 176, 160)\n",
      "sub-OAS30259_ses-d0000_run-01\n",
      "(29, 176, 256)\n",
      "sub-OAS30259_ses-d0000_run-02\n",
      "(29, 176, 256)\n",
      "sub-OAS30259_ses-d0000_run-03\n",
      "(29, 176, 256)\n",
      "sub-OAS30259_ses-d0679_run-01\n",
      "(29, 176, 256)\n",
      "sub-OAS30259_ses-d0679_run-02\n",
      "(29, 176, 256)\n",
      "sub-OAS30259_ses-d0679_run-03\n",
      "(29, 176, 256)\n",
      "sub-OAS30369_ses-d2819_run-01\n",
      "(29, 176, 256)\n",
      "sub-OAS30369_ses-d2819_run-02\n",
      "(29, 176, 256)\n",
      "sub-OAS30369_ses-d2819_run-03\n",
      "(29, 176, 256)\n",
      "sub-OAS30379_ses-d1169_run-01\n",
      "(29, 176, 256)\n",
      "sub-OAS30379_ses-d1169_run-02\n",
      "(29, 176, 256)\n",
      "sub-OAS30379_ses-d1169_run-03\n",
      "(29, 176, 256)\n",
      "sub-OAS30459_ses-d0078_run-01\n",
      "(29, 176, 256)\n",
      "sub-OAS30459_ses-d0078_run-02\n",
      "(29, 176, 256)\n",
      "sub-OAS30459_ses-d0078_run-03\n",
      "(29, 176, 256)\n",
      "sub-OAS30459_ses-d0571_run-01\n",
      "(29, 176, 256)\n",
      "sub-OAS30459_ses-d0571_run-02\n",
      "(29, 176, 256)\n",
      "sub-OAS30459_ses-d0571_run-03\n",
      "(29, 176, 256)\n",
      "sub-OAS30539_ses-d0154_run-01\n",
      "(29, 176, 256)\n",
      "sub-OAS30539_ses-d0154_run-02\n",
      "(29, 176, 256)\n",
      "sub-OAS30539_ses-d0154_run-03\n",
      "(29, 176, 256)\n",
      "sub-OAS30539_ses-d0640_run-01\n",
      "(29, 176, 256)\n",
      "sub-OAS30539_ses-d0640_run-02\n",
      "(29, 176, 256)\n",
      "sub-OAS30539_ses-d0640_run-03\n",
      "(29, 176, 256)\n",
      "sub-OAS30669_ses-d2733_run-01\n",
      "(29, 176, 256)\n",
      "sub-OAS30669_ses-d2733_run-02\n",
      "(29, 176, 256)\n",
      "sub-OAS30669_ses-d2733_run-03\n",
      "(29, 176, 256)\n",
      "sub-OAS30689_ses-d2082_run-01\n",
      "(29, 176, 256)\n",
      "sub-OAS30689_ses-d2082_run-02\n",
      "(29, 176, 256)\n",
      "sub-OAS30689_ses-d2082_run-03\n",
      "(29, 176, 256)\n",
      "sub-OAS30699_ses-d0108_run-01\n",
      "(29, 176, 256)\n",
      "sub-OAS30699_ses-d0108_run-02\n",
      "(29, 176, 256)\n",
      "sub-OAS30699_ses-d0108_run-03\n",
      "(29, 176, 256)\n",
      "sub-OAS30709_ses-d0026_run-01\n",
      "(29, 176, 256)\n",
      "sub-OAS30709_ses-d0026_run-02\n",
      "(29, 176, 256)\n",
      "sub-OAS30709_ses-d0026_run-03\n",
      "(29, 176, 256)\n",
      "sub-OAS30709_ses-d0026_run-04\n",
      "(29, 176, 256)\n",
      "sub-OAS30709_ses-d0885\n",
      "(99, 176, 160)\n",
      "sub-OAS30829_ses-d5823_run-01\n",
      "(29, 176, 256)\n",
      "sub-OAS30829_ses-d5823_run-02\n",
      "(29, 176, 256)\n",
      "sub-OAS30829_ses-d5823_run-03\n",
      "(29, 176, 256)\n",
      "sub-OAS30829_ses-d6357_run-01\n",
      "(29, 176, 256)\n",
      "sub-OAS30829_ses-d6357_run-02\n",
      "(29, 176, 256)\n",
      "sub-OAS30829_ses-d6357_run-03\n",
      "(29, 176, 256)\n",
      "sub-OAS30919_ses-d0035_run-01\n",
      "(29, 176, 256)\n",
      "sub-OAS30919_ses-d0035_run-02\n",
      "(29, 176, 256)\n",
      "sub-OAS30919_ses-d0035_run-03\n",
      "(29, 176, 256)\n",
      "sub-OAS30959_ses-d0123\n",
      "(99, 176, 160)\n",
      "sub-OAS30969_ses-d0047_run-01\n",
      "(29, 176, 256)\n",
      "sub-OAS30969_ses-d0047_run-02\n",
      "(29, 176, 256)\n",
      "sub-OAS30969_ses-d0047_run-03\n",
      "(29, 176, 256)\n",
      "sub-OAS31049_ses-d0575_run-01\n",
      "(29, 176, 256)\n",
      "sub-OAS31049_ses-d0575_run-02\n",
      "(29, 176, 256)\n",
      "sub-OAS31049_ses-d0575_run-03\n",
      "(29, 176, 256)\n",
      "sub-OAS31049_ses-d0575_run-04\n",
      "(29, 176, 256)\n",
      "sub-OAS31049_ses-d1066_run-01\n",
      "(29, 176, 256)\n",
      "sub-OAS31049_ses-d1066_run-02\n",
      "(29, 176, 256)\n",
      "sub-OAS31049_ses-d1066_run-03\n",
      "(29, 176, 256)\n",
      "sub-OAS31099_ses-d0086\n",
      "(99, 176, 160)\n",
      "sub-OAS31109_ses-d0000_run-01\n",
      "(29, 176, 256)\n",
      "sub-OAS31109_ses-d0000_run-02\n",
      "(29, 176, 256)\n",
      "sub-OAS31109_ses-d0000_run-03\n",
      "(29, 176, 256)\n",
      "255 2\n"
     ]
    }
   ],
   "source": [
    "# BASELINE RGB\n",
    "img_dir = \"./Data/Images\"\n",
    "low_bound = 100\n",
    "high_bound = 200\n",
    "img_scale = 1\n",
    "depth_scale = 33\n",
    "#list of tuples (image data, AD)\n",
    "all_data = []\n",
    "for run in runs_list:\n",
    "    run_dir = os.path.join(img_dir, run)\n",
    "    run_imgs = []\n",
    "    for filename in os.listdir(run_dir):\n",
    "        img_num = int(filename[-7:-4])\n",
    "        if (100 <= img_num < 199):\n",
    "            img_slice = cv2.imread(os.path.join(run_dir, filename), cv2.IMREAD_GRAYSCALE)\n",
    "            #print(img_slice)\n",
    "            #img_slice = cv2.resize(img_slice, (0,0), fx=1/img_scale, fy=1/img_scale, interpolation=cv2.INTER_AREA)\n",
    "            img_slice = img_slice[40:216,:]\n",
    "            run_imgs.append(img_slice)\n",
    "\n",
    "    temp_arr = np.array(run_imgs)\n",
    "    \n",
    "    if temp_arr.size == 0 or not temp_arr.shape[1] == 176 or not temp_arr.shape[2] == 176:\n",
    "        print(run)\n",
    "        print(temp_arr.shape)\n",
    "        continue\n",
    "    \n",
    "    final_slices = []\n",
    "    #print(temp_arr.shape[2])\n",
    "    \n",
    "    for y in range(temp_arr.shape[2]):\n",
    "        xz_pane = temp_arr[:, :, y]\n",
    "        scaled_xz = cv2.resize(xz_pane, (0, 0), fy=1/depth_scale, fx=1, interpolation=cv2.INTER_AREA)\n",
    "        final_slices.append(scaled_xz)\n",
    "    \n",
    "    if not len(final_slices[0]) == 3:\n",
    "        continue\n",
    "    \n",
    "    final_array = torch.from_numpy(np.dstack(final_slices)).float()\n",
    "    #print(final_array.shape)\n",
    "    run_tuple = (final_array, labels_dict[run])\n",
    "    all_data.append(run_tuple)\n",
    "    \n",
    "print(len(all_data), len(all_data[0]))\n",
    "    "
   ]
  },
  {
   "cell_type": "code",
   "execution_count": 10,
   "metadata": {},
   "outputs": [
    {
     "data": {
      "text/plain": [
       "<matplotlib.image.AxesImage at 0x1db34c46f60>"
      ]
     },
     "execution_count": 10,
     "metadata": {},
     "output_type": "execute_result"
    },
    {
     "data": {
      "image/png": "[encoded data removed]",
      "text/plain": [
       "<Figure size 432x288 with 1 Axes>"
      ]
     },
     "metadata": {
      "needs_background": "light"
     },
     "output_type": "display_data"
    }
   ],
   "source": [
    "plt.imshow(all_data[0][0][1])"
   ]
  },
  {
   "cell_type": "code",
   "execution_count": 11,
   "metadata": {},
   "outputs": [],
   "source": [
    "from torch.utils.data import Dataset, DataLoader\n",
    "\n",
    "class T1Dataset(Dataset):\n",
    "    def __init__(self, data, transform=None):\n",
    "        # list of tuples (3d image arrays, AD label)\n",
    "        self.data = data\n",
    "        # labels.csv\n",
    "        #self.target = torch.from_numpy(target).long()\n",
    "        #self.transform = transforms.Compose([transforms.ToTensor()])\n",
    "        self.transform = transform\n",
    "        \n",
    "    def __len__(self):\n",
    "        return len(self.data)\n",
    "    \n",
    "    def __getitem__(self, index):\n",
    "        #scan = torch.from_numpy(self.data[index][0]).float()\n",
    "        scan = self.data[index][0]\n",
    "        y = self.data[index][1]\n",
    "        return scan, y"
   ]
  },
  {
   "cell_type": "code",
   "execution_count": 12,
   "metadata": {},
   "outputs": [],
   "source": [
    "scan_dataset = T1Dataset(all_data, None)"
   ]
  },
  {
   "cell_type": "code",
   "execution_count": 27,
   "metadata": {},
   "outputs": [],
   "source": [
    "def train(model, dataset, num_epochs=10, batch_size=32, learning_rate=1e-4):\n",
    "    criterion = nn.BCEWithLogitsLoss()\n",
    "    # use Adam for CNN\n",
    "    optimizer = torch.optim.Adam(model.parameters(), lr=learning_rate)\n",
    "    epochs, train_losses, val_losses, train_acc, val_acc = [], [], [], [], []\n",
    "    \n",
    "    train_loader = DataLoader(dataset, batch_size, shuffle=True)\n",
    "    \n",
    "    loss = 0\n",
    "    \n",
    "    for epoch in range(num_epochs):\n",
    "        for i, (inputs, labels) in enumerate(train_loader):\n",
    "            inputs, labels = inputs.to(device), labels.to(device)\n",
    "            outputs = model(inputs)\n",
    "            loss = criterion(outputs, labels.float())\n",
    "            loss.backward(retain_graph=True)\n",
    "            optimizer.step()\n",
    "            optimizer.zero_grad()\n",
    "\n",
    "        epochs.append(epoch)\n",
    "        train_losses.append(loss)\n",
    "        \n",
    "        print(f\"Epoch: {epoch} Training Loss: {train_losses[-1]}\")\n",
    "    \n",
    "    plt.title(\"Training Curve\")\n",
    "    plt.plot(epochs, train_losses, label=\"Train\")\n",
    "    plt.xlabel(\"Epochs\")\n",
    "    plt.ylabel(\"Loss\")\n",
    "    plt.legend(loc='best')\n",
    "    plt.show()\n",
    "    \n",
    "    print(\"Final Training Loss: {}\".format(train_losses[-1]))"
   ]
  },
  {
   "cell_type": "code",
   "execution_count": 29,
   "metadata": {},
   "outputs": [],
   "source": [
    "import torchvision.models\n",
    "\n",
    "alexnet = torchvision.models.alexnet(pretrained=True)\n",
    "alexnet.cuda()\n",
    "\n",
    "dataset_list = list(scan_dataset)\n",
    "\n",
    "imgs, labels = next(iter(torch.utils.data.DataLoader(dataset_list, batch_size=len(dataset_list), shuffle=True)))\n",
    "imgs = imgs.float()\n",
    "imgs = imgs.to(device)\n",
    "features = alexnet.features(imgs)"
   ]
  },
  {
   "cell_type": "code",
   "execution_count": 30,
   "metadata": {},
   "outputs": [],
   "source": [
    "features_list = []\n",
    "for i in range(features.shape[0]):\n",
    "    features_list.append((features[i], labels[i]))"
   ]
  },
  {
   "cell_type": "code",
   "execution_count": 31,
   "metadata": {},
   "outputs": [
    {
     "name": "stdout",
     "output_type": "stream",
     "text": [
      "torch.Size([256, 4, 4])\n"
     ]
    }
   ],
   "source": [
    "print(features_list[0][0].shape)"
   ]
  },
  {
   "cell_type": "code",
   "execution_count": 32,
   "metadata": {},
   "outputs": [],
   "source": [
    "class CNN2(nn.Module):\n",
    "    def __init__(self):\n",
    "        super(CNN2, self).__init__()\n",
    "        self.name = \"CNN2\"\n",
    "        # 256x6x6\n",
    "        self.fc1 = nn.Linear(256*4*4, 1024)\n",
    "        nn.init.xavier_uniform(self.fc1.weight)\n",
    "        #self.fc1 = nn.Linear(3*224*224, 512)\n",
    "        self.fc2 = nn.Linear(1024, 512)\n",
    "        nn.init.xavier_uniform(self.fc2.weight)\n",
    "        self.fc3 = nn.Linear(512, 64)\n",
    "        nn.init.xavier_uniform(self.fc3.weight)\n",
    "        self.fc4 = nn.Linear(64, 1)\n",
    "        nn.init.xavier_uniform(self.fc4.weight)\n",
    "        #self.softmax = nn.Softmax()\n",
    "\n",
    "    def forward(self, x):\n",
    "        x = x.view(-1, 256*4*4)\n",
    "        #x = x.view(-1, 3*224*224)\n",
    "        x = F.relu(self.fc1(x))\n",
    "        #print(x.shape)\n",
    "        x = F.relu(self.fc2(x))\n",
    "        #print(x.shape)\n",
    "        x = F.relu(self.fc3(x))\n",
    "        #print(x.shape)\n",
    "        x = self.fc4(x)\n",
    "        #x = self.softmax(x)\n",
    "        x = x.squeeze(1) # Flatten to [batch_size]\n",
    "        return x"
   ]
  },
  {
   "cell_type": "code",
   "execution_count": 33,
   "metadata": {},
   "outputs": [
    {
     "name": "stderr",
     "output_type": "stream",
     "text": [
      "C:\\ProgramData\\Anaconda3\\lib\\site-packages\\ipykernel_launcher.py:7: UserWarning: nn.init.xavier_uniform is now deprecated in favor of nn.init.xavier_uniform_.\n",
      "  import sys\n",
      "C:\\ProgramData\\Anaconda3\\lib\\site-packages\\ipykernel_launcher.py:10: UserWarning: nn.init.xavier_uniform is now deprecated in favor of nn.init.xavier_uniform_.\n",
      "  # Remove the CWD from sys.path while we load stuff.\n",
      "C:\\ProgramData\\Anaconda3\\lib\\site-packages\\ipykernel_launcher.py:12: UserWarning: nn.init.xavier_uniform is now deprecated in favor of nn.init.xavier_uniform_.\n",
      "  if sys.path[0] == '':\n",
      "C:\\ProgramData\\Anaconda3\\lib\\site-packages\\ipykernel_launcher.py:14: UserWarning: nn.init.xavier_uniform is now deprecated in favor of nn.init.xavier_uniform_.\n",
      "  \n"
     ]
    },
    {
     "name": "stdout",
     "output_type": "stream",
     "text": [
      "Epoch: 0 Training Loss: 21.774913787841797\n",
      "Epoch: 1 Training Loss: 1.890620470046997\n",
      "Epoch: 2 Training Loss: 1.0088483095169067\n",
      "Epoch: 3 Training Loss: 1.3323124647140503\n",
      "Epoch: 4 Training Loss: 0.21226608753204346\n",
      "Epoch: 5 Training Loss: 0.22008007764816284\n",
      "Epoch: 6 Training Loss: 0.001527016400359571\n",
      "Epoch: 7 Training Loss: 0.0011692626867443323\n",
      "Epoch: 8 Training Loss: 0.0063000754453241825\n",
      "Epoch: 9 Training Loss: 0.0001467974652769044\n"
     ]
    },
    {
     "data": {
      "image/png": "[encoded data removed]",
      "text/plain": [
       "<Figure size 432x288 with 1 Axes>"
      ]
     },
     "metadata": {
      "needs_background": "light"
     },
     "output_type": "display_data"
    },
    {
     "name": "stdout",
     "output_type": "stream",
     "text": [
      "Final Training Loss: 0.0001467974652769044\n"
     ]
    }
   ],
   "source": [
    "alexnetCNN2 = CNN2()\n",
    "alexnetCNN2.cuda()\n",
    "train(alexnetCNN2, features_list, num_epochs=10, batch_size=32, learning_rate=1e-4)"
   ]
  },
  {
   "cell_type": "code",
   "execution_count": null,
   "metadata": {},
   "outputs": [],
   "source": []
  }
 ],
 "metadata": {
  "kernelspec": {
   "display_name": "Python 3",
   "language": "python",
   "name": "python3"
  },
  "language_info": {
   "codemirror_mode": {
    "name": "ipython",
    "version": 3
   },
   "file_extension": ".py",
   "mimetype": "text/x-python",
   "name": "python",
   "nbconvert_exporter": "python",
   "pygments_lexer": "ipython3",
   "version": "3.7.3"
  }
 },
 "nbformat": 4,
 "nbformat_minor": 2
}
