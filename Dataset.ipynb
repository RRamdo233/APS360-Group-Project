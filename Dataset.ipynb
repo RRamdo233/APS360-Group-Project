{
 "cells": [
  {
   "cell_type": "code",
   "execution_count": 5,
   "metadata": {},
   "outputs": [],
   "source": [
    "import torch\n",
    "import torch.nn as nn\n",
    "import torch.nn.functional as F\n",
    "import torch.optim as optim\n",
    "import numpy as np\n",
    "import matplotlib.pyplot as plt\n",
    "import pandas as pd\n",
    "import cv2\n",
    "import os"
   ]
  },
  {
   "cell_type": "code",
   "execution_count": 6,
   "metadata": {},
   "outputs": [],
   "source": [
    "runs_list = next(os.walk('./Data/Images'))[1]"
   ]
  },
  {
   "cell_type": "code",
   "execution_count": 46,
   "metadata": {},
   "outputs": [
    {
     "name": "stdout",
     "output_type": "stream",
     "text": [
      "7 25\n"
     ]
    }
   ],
   "source": [
    "img_dir = \"./Data/Images\"\n",
    "low_bound = 100\n",
    "high_bound = 200\n",
    "img_scale = 4\n",
    "depth_scale = 4\n",
    "all_data = []\n",
    "for run in runs_list:\n",
    "    run_dir = os.path.join(img_dir, run)\n",
    "    run_imgs = []\n",
    "    for filename in os.listdir(run_dir):\n",
    "        img_num = int(filename[-7:-4])\n",
    "        if (100 <= img_num <= 200):\n",
    "            img_slice = cv2.imread(os.path.join(run_dir, filename), cv2.IMREAD_GRAYSCALE)\n",
    "            #print(img_slice)\n",
    "            img_slice = cv2.resize(img_slice, (0,0), fx=1/img_scale, fy=1/img_scale, interpolation=cv2.INTER_AREA)\n",
    "            run_imgs.append(img_slice)\n",
    "        \n",
    "    temp_arr = np.array(run_imgs)\n",
    "    \n",
    "    final_slices = []\n",
    "    \n",
    "    for y in range(temp_arr.shape[2]):\n",
    "        xz_pane = temp_arr[:, :, y]\n",
    "        scaled_xz = cv2.resize(xz_pane, (0, 0), fy=1/depth_scale, fx=1, interpolation=cv2.INTER_AREA)\n",
    "        final_slices.append(scaled_xz)\n",
    "    \n",
    "    final_array = np.dstack(final_slices)\n",
    "    #print(final_array.shape)\n",
    "    all_data.append(final_array)\n",
    "    \n",
    "print(len(all_data), len(all_data[0]))\n",
    "    "
   ]
  },
  {
   "cell_type": "code",
   "execution_count": null,
   "metadata": {},
   "outputs": [],
   "source": []
  },
  {
   "cell_type": "code",
   "execution_count": null,
   "metadata": {},
   "outputs": [],
   "source": []
  }
 ],
 "metadata": {
  "kernelspec": {
   "display_name": "Python 3",
   "language": "python",
   "name": "python3"
  },
  "language_info": {
   "codemirror_mode": {
    "name": "ipython",
    "version": 3
   },
   "file_extension": ".py",
   "mimetype": "text/x-python",
   "name": "python",
   "nbconvert_exporter": "python",
   "pygments_lexer": "ipython3",
   "version": "3.7.3"
  }
 },
 "nbformat": 4,
 "nbformat_minor": 2
}
