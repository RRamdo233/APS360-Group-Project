{
 "cells": [
  {
   "cell_type": "code",
   "execution_count": 1,
   "metadata": {},
   "outputs": [],
   "source": [
    "import torch\n",
    "import torch.nn as nn\n",
    "import torch.nn.functional as F\n",
    "import torch.optim as optim\n",
    "import numpy as np\n",
    "import matplotlib.pyplot as plt\n",
    "import pandas as pd"
   ]
  },
  {
   "cell_type": "code",
   "execution_count": 2,
   "metadata": {},
   "outputs": [
    {
     "name": "stdout",
     "output_type": "stream",
     "text": [
      "Path to cognitive assesment csv: ./Data/matthewl225_7_15_2019_16_11_22.csv\n"
     ]
    }
   ],
   "source": [
    "#import congitive assessment spreadsheet\n",
    "#path = \"./Data/matthewl225_7_15_2019_16_11_22.csv\"\n",
    "path = input('Path to cognitive assesment csv: ')\n",
    "header = ['ADRC_ADRCCLINICALDATA ID', 'dx1']\n",
    "\n",
    "#dfcolumns = pd.read_csv(path, nrows = 1)\n",
    "df = pd.read_csv(path, header = None, skiprows = 1, usecols = [0,8], names = header)\n",
    "\n",
    "#df = pd.read_csv(path, names=header, index_col=False)"
   ]
  },
  {
   "cell_type": "code",
   "execution_count": 3,
   "metadata": {},
   "outputs": [
    {
     "data": {
      "text/plain": [
       "(6224, 2)"
      ]
     },
     "execution_count": 3,
     "metadata": {},
     "output_type": "execute_result"
    }
   ],
   "source": [
    "df.shape"
   ]
  },
  {
   "cell_type": "code",
   "execution_count": 4,
   "metadata": {},
   "outputs": [
    {
     "data": {
      "text/html": [
       "<div>\n",
       "<style scoped>\n",
       "    .dataframe tbody tr th:only-of-type {\n",
       "        vertical-align: middle;\n",
       "    }\n",
       "\n",
       "    .dataframe tbody tr th {\n",
       "        vertical-align: top;\n",
       "    }\n",
       "\n",
       "    .dataframe thead th {\n",
       "        text-align: right;\n",
       "    }\n",
       "</style>\n",
       "<table border=\"1\" class=\"dataframe\">\n",
       "  <thead>\n",
       "    <tr style=\"text-align: right;\">\n",
       "      <th></th>\n",
       "      <th>ADRC_ADRCCLINICALDATA ID</th>\n",
       "      <th>dx1</th>\n",
       "    </tr>\n",
       "  </thead>\n",
       "  <tbody>\n",
       "    <tr>\n",
       "      <th>0</th>\n",
       "      <td>OAS30001_ClinicalData_d0000</td>\n",
       "      <td>Cognitively normal</td>\n",
       "    </tr>\n",
       "    <tr>\n",
       "      <th>1</th>\n",
       "      <td>OAS30001_ClinicalData_d0339</td>\n",
       "      <td>Cognitively normal</td>\n",
       "    </tr>\n",
       "    <tr>\n",
       "      <th>2</th>\n",
       "      <td>OAS30001_ClinicalData_d0722</td>\n",
       "      <td>Cognitively normal</td>\n",
       "    </tr>\n",
       "  </tbody>\n",
       "</table>\n",
       "</div>"
      ],
      "text/plain": [
       "      ADRC_ADRCCLINICALDATA ID                 dx1\n",
       "0  OAS30001_ClinicalData_d0000  Cognitively normal\n",
       "1  OAS30001_ClinicalData_d0339  Cognitively normal\n",
       "2  OAS30001_ClinicalData_d0722  Cognitively normal"
      ]
     },
     "execution_count": 4,
     "metadata": {},
     "output_type": "execute_result"
    }
   ],
   "source": [
    "df[:3]"
   ]
  },
  {
   "cell_type": "code",
   "execution_count": 5,
   "metadata": {},
   "outputs": [
    {
     "data": {
      "text/plain": [
       "array(['Cognitively normal', 'uncertain dementia',\n",
       "       'Unc: ques. Impairment', 'AD dem w/depresss- not contribut',\n",
       "       'AD Dementia', 'AD dem distrubed social- with',\n",
       "       'AD dem w/CVD contribut', 'Non AD dem- Other primary',\n",
       "       'AD dem visuospatial- with', 'AD dem visuospatial- prior',\n",
       "       'AD dem Language dysf after', '.',\n",
       "       'uncertain- possible NON AD dem', 'Vascular Demt- primary',\n",
       "       'AD dem w/PDI after AD dem not contrib', '0.5 in memory only',\n",
       "       'Incipient Non-AD dem', 'AD dem distrubed social- prior',\n",
       "       'Frontotemporal demt. prim', 'AD dem distrubed social- after',\n",
       "       'AD dem w/PDI after AD dem contribut',\n",
       "       'uncertain  possible NON AD dem',\n",
       "       'AD dem w/depresss  not contribut',\n",
       "       'AD dem w/oth (list B) contribut', 'DLBD- primary',\n",
       "       'Incipient demt PTP', 'Dementia/PD- primary',\n",
       "       'AD dem w/depresss- contribut', 'Unc: impair reversible',\n",
       "       'AD dem w/oth (list B) not contrib', 'AD dem w/CVD not contrib',\n",
       "       'AD dem Language dysf prior', 'AD dem Language dysf with', 'DAT',\n",
       "       'Vascular Demt  primary', 'DLBD- secondary',\n",
       "       'AD dem w/oth unusual features', 'ProAph w/o dement',\n",
       "       'AD dem cannot be primary', 'Vascular Demt- secondary',\n",
       "       'No dementia', 'AD dem w/oth unusual feat/subs demt',\n",
       "       'AD dem w/depresss  contribut', 'DLBD, primary', nan,\n",
       "       'AD dem visuospatial, after', 'DAT w/depresss not contribut',\n",
       "       'AD dem w/oth unusual features/demt on',\n",
       "       'AD dem w/Frontal lobe/demt at onset',\n",
       "       'AD dem/FLD prior to AD dem', 'AD dem w/depresss, not contribut'],\n",
       "      dtype=object)"
      ]
     },
     "execution_count": 5,
     "metadata": {},
     "output_type": "execute_result"
    }
   ],
   "source": [
    "df.dx1.unique()"
   ]
  },
  {
   "cell_type": "code",
   "execution_count": 46,
   "metadata": {},
   "outputs": [],
   "source": [
    "subject_regex = re.compile(\"OAS(?P<order>[0-9]+)\")\n",
    "subjects = [subject_regex.search(r).group(1) for r in df[\"ADRC_ADRCCLINICALDATA ID\"]]\n",
    "#print(subjects)\n",
    "df['Subject'] = pd.Series(subjects, index=df.index)\n",
    "\n",
    "date_regex = re.compile(\"d(?P<order>[0-9]+)\")\n",
    "dates = [date_regex.search(r).group(1) for r in df[\"ADRC_ADRCCLINICALDATA ID\"]]\n",
    "df['Date'] = pd.Series(list(map(int,dates)), index=df.index)"
   ]
  },
  {
   "cell_type": "code",
   "execution_count": 47,
   "metadata": {},
   "outputs": [
    {
     "data": {
      "text/html": [
       "<div>\n",
       "<style scoped>\n",
       "    .dataframe tbody tr th:only-of-type {\n",
       "        vertical-align: middle;\n",
       "    }\n",
       "\n",
       "    .dataframe tbody tr th {\n",
       "        vertical-align: top;\n",
       "    }\n",
       "\n",
       "    .dataframe thead th {\n",
       "        text-align: right;\n",
       "    }\n",
       "</style>\n",
       "<table border=\"1\" class=\"dataframe\">\n",
       "  <thead>\n",
       "    <tr style=\"text-align: right;\">\n",
       "      <th></th>\n",
       "      <th>ADRC_ADRCCLINICALDATA ID</th>\n",
       "      <th>dx1</th>\n",
       "      <th>Subject</th>\n",
       "      <th>Date</th>\n",
       "    </tr>\n",
       "  </thead>\n",
       "  <tbody>\n",
       "    <tr>\n",
       "      <th>0</th>\n",
       "      <td>OAS30001_ClinicalData_d0000</td>\n",
       "      <td>Cognitively normal</td>\n",
       "      <td>30001</td>\n",
       "      <td>0</td>\n",
       "    </tr>\n",
       "    <tr>\n",
       "      <th>1</th>\n",
       "      <td>OAS30001_ClinicalData_d0339</td>\n",
       "      <td>Cognitively normal</td>\n",
       "      <td>30001</td>\n",
       "      <td>339</td>\n",
       "    </tr>\n",
       "    <tr>\n",
       "      <th>2</th>\n",
       "      <td>OAS30001_ClinicalData_d0722</td>\n",
       "      <td>Cognitively normal</td>\n",
       "      <td>30001</td>\n",
       "      <td>722</td>\n",
       "    </tr>\n",
       "    <tr>\n",
       "      <th>3</th>\n",
       "      <td>OAS30001_ClinicalData_d1106</td>\n",
       "      <td>Cognitively normal</td>\n",
       "      <td>30001</td>\n",
       "      <td>1106</td>\n",
       "    </tr>\n",
       "    <tr>\n",
       "      <th>4</th>\n",
       "      <td>OAS30001_ClinicalData_d1456</td>\n",
       "      <td>Cognitively normal</td>\n",
       "      <td>30001</td>\n",
       "      <td>1456</td>\n",
       "    </tr>\n",
       "    <tr>\n",
       "      <th>5</th>\n",
       "      <td>OAS30001_ClinicalData_d1894</td>\n",
       "      <td>Cognitively normal</td>\n",
       "      <td>30001</td>\n",
       "      <td>1894</td>\n",
       "    </tr>\n",
       "    <tr>\n",
       "      <th>6</th>\n",
       "      <td>OAS30001_ClinicalData_d2181</td>\n",
       "      <td>Cognitively normal</td>\n",
       "      <td>30001</td>\n",
       "      <td>2181</td>\n",
       "    </tr>\n",
       "    <tr>\n",
       "      <th>7</th>\n",
       "      <td>OAS30001_ClinicalData_d2699</td>\n",
       "      <td>Cognitively normal</td>\n",
       "      <td>30001</td>\n",
       "      <td>2699</td>\n",
       "    </tr>\n",
       "    <tr>\n",
       "      <th>8</th>\n",
       "      <td>OAS30001_ClinicalData_d3025</td>\n",
       "      <td>Cognitively normal</td>\n",
       "      <td>30001</td>\n",
       "      <td>3025</td>\n",
       "    </tr>\n",
       "    <tr>\n",
       "      <th>9</th>\n",
       "      <td>OAS30001_ClinicalData_d3332</td>\n",
       "      <td>Cognitively normal</td>\n",
       "      <td>30001</td>\n",
       "      <td>3332</td>\n",
       "    </tr>\n",
       "    <tr>\n",
       "      <th>10</th>\n",
       "      <td>OAS30001_ClinicalData_d3675</td>\n",
       "      <td>Cognitively normal</td>\n",
       "      <td>30001</td>\n",
       "      <td>3675</td>\n",
       "    </tr>\n",
       "    <tr>\n",
       "      <th>11</th>\n",
       "      <td>OAS30001_ClinicalData_d3977</td>\n",
       "      <td>Cognitively normal</td>\n",
       "      <td>30001</td>\n",
       "      <td>3977</td>\n",
       "    </tr>\n",
       "    <tr>\n",
       "      <th>12</th>\n",
       "      <td>OAS30002_ClinicalData_d0000</td>\n",
       "      <td>Cognitively normal</td>\n",
       "      <td>30002</td>\n",
       "      <td>0</td>\n",
       "    </tr>\n",
       "    <tr>\n",
       "      <th>13</th>\n",
       "      <td>OAS30002_ClinicalData_d0751</td>\n",
       "      <td>Cognitively normal</td>\n",
       "      <td>30002</td>\n",
       "      <td>751</td>\n",
       "    </tr>\n",
       "    <tr>\n",
       "      <th>14</th>\n",
       "      <td>OAS30002_ClinicalData_d1169</td>\n",
       "      <td>Cognitively normal</td>\n",
       "      <td>30002</td>\n",
       "      <td>1169</td>\n",
       "    </tr>\n",
       "  </tbody>\n",
       "</table>\n",
       "</div>"
      ],
      "text/plain": [
       "       ADRC_ADRCCLINICALDATA ID                 dx1 Subject  Date\n",
       "0   OAS30001_ClinicalData_d0000  Cognitively normal   30001     0\n",
       "1   OAS30001_ClinicalData_d0339  Cognitively normal   30001   339\n",
       "2   OAS30001_ClinicalData_d0722  Cognitively normal   30001   722\n",
       "3   OAS30001_ClinicalData_d1106  Cognitively normal   30001  1106\n",
       "4   OAS30001_ClinicalData_d1456  Cognitively normal   30001  1456\n",
       "5   OAS30001_ClinicalData_d1894  Cognitively normal   30001  1894\n",
       "6   OAS30001_ClinicalData_d2181  Cognitively normal   30001  2181\n",
       "7   OAS30001_ClinicalData_d2699  Cognitively normal   30001  2699\n",
       "8   OAS30001_ClinicalData_d3025  Cognitively normal   30001  3025\n",
       "9   OAS30001_ClinicalData_d3332  Cognitively normal   30001  3332\n",
       "10  OAS30001_ClinicalData_d3675  Cognitively normal   30001  3675\n",
       "11  OAS30001_ClinicalData_d3977  Cognitively normal   30001  3977\n",
       "12  OAS30002_ClinicalData_d0000  Cognitively normal   30002     0\n",
       "13  OAS30002_ClinicalData_d0751  Cognitively normal   30002   751\n",
       "14  OAS30002_ClinicalData_d1169  Cognitively normal   30002  1169"
      ]
     },
     "execution_count": 47,
     "metadata": {},
     "output_type": "execute_result"
    }
   ],
   "source": [
    "df[:15]"
   ]
  },
  {
   "cell_type": "code",
   "execution_count": null,
   "metadata": {},
   "outputs": [],
   "source": [
    "import scipy.misc, numpy, shutil, os, nibabel\n",
    "import sys, getopt\n",
    "import zipfile, os"
   ]
  },
  {
   "cell_type": "code",
   "execution_count": 8,
   "metadata": {},
   "outputs": [
    {
     "name": "stdout",
     "output_type": "stream",
     "text": [
      "Path to nii zip: ./Data/matthewl225-20190721_222252.zip\n"
     ]
    }
   ],
   "source": [
    "#unzip nii package\n",
    "package_path = input('Path to nii zip: ')\n",
    "with zipfile.ZipFile(package_path, \"r\") as zip_ref:\n",
    "    zip_ref.extractall(\"./Data/Nii\")"
   ]
  },
  {
   "cell_type": "code",
   "execution_count": 10,
   "metadata": {},
   "outputs": [
    {
     "name": "stdout",
     "output_type": "stream",
     "text": [
      "Created ouput directory: ./Data/Nii2\n"
     ]
    }
   ],
   "source": [
    "import gzip\n",
    "\n",
    "#unzip individual run nii pakcages\n",
    "nii_package_path = \"./Data/Nii\"\n",
    "output_path = \"./Data/Nii2\"\n",
    "\n",
    "if not os.path.exists(output_path):\n",
    "    os.makedirs(output_path)\n",
    "    print(\"Created ouput directory: \" + output_path)\n",
    "\n",
    "for root, directories, filenames in os.walk(nii_package_path):\n",
    "    for filename in filenames:\n",
    "        run_package = os.path.join(root, filename)\n",
    "        with gzip.open(run_package, 'rb') as s_file, open(os.path.join(output_path, filename[:-3]), 'wb') as d_file:\n",
    "            shutil.copyfileobj(s_file, d_file, 65536)\n",
    "            #shutil.move(d_file, output_path)\n",
    "                "
   ]
  },
  {
   "cell_type": "code",
   "execution_count": 11,
   "metadata": {},
   "outputs": [
    {
     "name": "stdout",
     "output_type": "stream",
     "text": [
      "Enter rotate angle (0 90 180 270): 90\n",
      "Input file is  ./Data/Nii2\\sub-OAS30001_ses-d0129_run-01_T1w.nii\n",
      "Created ouput directory: ./Data/Images\n",
      "Created ouput directory: ./Data/Images\\sub-OAS30001_ses-d0129_run-01\n",
      "Reading NIfTI file...\n"
     ]
    },
    {
     "name": "stderr",
     "output_type": "stream",
     "text": [
      "C:\\Users\\MatthewLee\\Anaconda3\\lib\\site-packages\\ipykernel_launcher.py:57: DeprecationWarning: `imsave` is deprecated!\n",
      "`imsave` is deprecated in SciPy 1.0.0, and will be removed in 1.2.0.\n",
      "Use ``imageio.imwrite`` instead.\n"
     ]
    },
    {
     "name": "stdout",
     "output_type": "stream",
     "text": [
      "Finished converting sub-OAS30001_ses-d0129_run-01_T1w.nii\n",
      "Input file is  ./Data/Nii2\\sub-OAS30001_ses-d0129_run-02_T1w.nii\n",
      "Created ouput directory: ./Data/Images\\sub-OAS30001_ses-d0129_run-02\n",
      "Reading NIfTI file...\n",
      "Finished converting sub-OAS30001_ses-d0129_run-02_T1w.nii\n",
      "Input file is  ./Data/Nii2\\sub-OAS30001_ses-d0757_run-01_T1w.nii\n",
      "Created ouput directory: ./Data/Images\\sub-OAS30001_ses-d0757_run-01\n",
      "Reading NIfTI file...\n",
      "Finished converting sub-OAS30001_ses-d0757_run-01_T1w.nii\n",
      "Input file is  ./Data/Nii2\\sub-OAS30001_ses-d0757_run-02_T1w.nii\n",
      "Created ouput directory: ./Data/Images\\sub-OAS30001_ses-d0757_run-02\n",
      "Reading NIfTI file...\n",
      "Finished converting sub-OAS30001_ses-d0757_run-02_T1w.nii\n",
      "Input file is  ./Data/Nii2\\sub-OAS30001_ses-d2430_T1w.nii\n",
      "Created ouput directory: ./Data/Images\\sub-OAS30001_ses-d2430\n",
      "Reading NIfTI file...\n",
      "Finished converting sub-OAS30001_ses-d2430_T1w.nii\n",
      "Input file is  ./Data/Nii2\\sub-OAS30001_ses-d3132_T1w.nii\n",
      "Created ouput directory: ./Data/Images\\sub-OAS30001_ses-d3132\n",
      "Reading NIfTI file...\n",
      "Finished converting sub-OAS30001_ses-d3132_T1w.nii\n",
      "Input file is  ./Data/Nii2\\sub-OAS30002_ses-d0371_T1w.nii\n",
      "Created ouput directory: ./Data/Images\\sub-OAS30002_ses-d0371\n",
      "Reading NIfTI file...\n",
      "Finished converting sub-OAS30002_ses-d0371_T1w.nii\n"
     ]
    }
   ],
   "source": [
    "#convert nii to png (borrowed from nii2png.py)\n",
    "outputfile = \"./Data/Images\"\n",
    "rotate_angle = int(input('Enter rotate angle (0 90 180 270): '))\n",
    "\n",
    "if not (rotate_angle == 0 or rotate_angle == 90 or rotate_angle == 180 or rotate_angle == 270):\n",
    "    print('You must enter a value that is either 90, 180, or 270. Quitting...')\n",
    "    sys.exit()\n",
    "\n",
    "data_path = \"./Data/Nii2\"\n",
    "for root, directories, filenames in os.walk(data_path):\n",
    "    for filename in filenames:\n",
    "        nii_path = os.path.join(root, filename)\n",
    "        image_array = nibabel.load(nii_path).get_data()\n",
    "        print(\"Input file is \", nii_path)\n",
    "        #print(len(image_array.shape))\n",
    "        \n",
    "        \n",
    "        # else if 3D image inputted\n",
    "        if len(image_array.shape) == 3:\n",
    "            # set 4d array dimension values\n",
    "            nx, ny, nz = image_array.shape\n",
    "\n",
    "            if not os.path.exists(outputfile):\n",
    "                os.makedirs(outputfile)\n",
    "                print(\"Created ouput directory: \" + outputfile)\n",
    "            \n",
    "            image_folder = os.path.join(outputfile, filename[:-8])\n",
    "            \n",
    "            if not os.path.exists(image_folder):\n",
    "                os.makedirs(image_folder)\n",
    "                print(\"Created ouput directory: \" + image_folder)\n",
    "            \n",
    "            print('Reading NIfTI file...')\n",
    "\n",
    "            total_slices = image_array.shape[2]\n",
    "\n",
    "            slice_counter = 0\n",
    "            # iterate through slices\n",
    "            for current_slice in range(0, total_slices):\n",
    "                # alternate slices\n",
    "                if (slice_counter % 1) == 0:\n",
    "                    # rotate or no rotate\n",
    "                    if rotate_angle == 90 or rotate_angle == 180 or rotate_angle == 270:\n",
    "                        if rotate_angle == 90:\n",
    "                            data = numpy.rot90(image_array[:, :, current_slice])\n",
    "                        elif ask_rotate_num == 180:\n",
    "                            data = numpy.rot90(numpy.rot90(image_array[:, :, current_slice]))\n",
    "                        elif ask_rotate_num == 270:\n",
    "                            data = numpy.rot90(numpy.rot90(numpy.rot90(image_array[:, :, current_slice])))\n",
    "                    else:\n",
    "                        data = image_array[:, :, current_slice]\n",
    "\n",
    "                    #alternate slices and save as png\n",
    "                    if (slice_counter % 1) == 0:\n",
    "                        #print('Saving image...')\n",
    "                        image_name = nii_path[:-4] + \"_z\" + \"{:0>3}\".format(str(current_slice+1))+ \".png\"\n",
    "                        scipy.misc.imsave(image_name, data)\n",
    "                        #print('Saved.')\n",
    "\n",
    "                        #move images to folder\n",
    "                        #print('Moving image...')\n",
    "                        src = image_name\n",
    "                        shutil.move(src, image_folder)\n",
    "                        slice_counter += 1\n",
    "                        #print('Moved.')\n",
    "\n",
    "            print('Finished converting {}'.format(filename))\n",
    "        else:\n",
    "            print('Not a 3D Image. Please try again.')\n",
    "        \n",
    "\n",
    "\n"
   ]
  },
  {
   "cell_type": "code",
   "execution_count": 12,
   "metadata": {},
   "outputs": [
    {
     "name": "stdout",
     "output_type": "stream",
     "text": [
      "['sub-OAS30001_ses-d0129_run-01', 'sub-OAS30001_ses-d0129_run-02', 'sub-OAS30001_ses-d0757_run-01', 'sub-OAS30001_ses-d0757_run-02', 'sub-OAS30001_ses-d2430', 'sub-OAS30001_ses-d3132', 'sub-OAS30002_ses-d0371']\n"
     ]
    }
   ],
   "source": [
    "runs_list = next(os.walk('./Data/Images'))[1]\n",
    "print(runs_list)"
   ]
  },
  {
   "cell_type": "code",
   "execution_count": 58,
   "metadata": {},
   "outputs": [],
   "source": [
    "import re\n",
    "\n",
    "AD_list = []\n",
    "\n",
    "for run in runs_list:\n",
    "    # if dx1 starts with AD then patient has AD\n",
    "    # either 0 or 1\n",
    "    subject_regex = re.compile(\"OAS(?P<order>[0-9]+)\")\n",
    "    subject = subject_regex.search(run).group(1)\n",
    "    \n",
    "    date_regex = re.compile(\"d(?P<order>[0-9]+)\")\n",
    "    date = date_regex.search(run).group(1)\n",
    "    \n",
    "    #print(subject, date)\n",
    "    \n",
    "    subject_df = df.loc[df[\"Subject\"] == subject]\n",
    "    #print(subject_df)\n",
    "    \n",
    "    #label = min(list(map(int, subject_df['Date'])), key=lambda x:(int(date)-x))\n",
    "    df_dates = subject_df['Date']\n",
    "    label_date = min(i for i in df_dates if i > int(date))\n",
    "    \n",
    "    label = subject_df.loc[df['Date'] == label_date, 'dx1'].item()\n",
    "    AD = 1 if label.startswith('AD') else 0\n",
    "    AD_list.append(AD)\n",
    "    \n",
    "    #print(run, AD)\n",
    "\n",
    "Labelsdf = pd.DataFrame()\n",
    "#df = pd.DataFrame(columns=['Run', 'AD'])\n",
    "Labelsdf['Run'] = pd.Series(runs_list)\n",
    "Labelsdf['AD'] = pd.Series(AD_list)"
   ]
  },
  {
   "cell_type": "code",
   "execution_count": 59,
   "metadata": {},
   "outputs": [
    {
     "data": {
      "text/html": [
       "<div>\n",
       "<style scoped>\n",
       "    .dataframe tbody tr th:only-of-type {\n",
       "        vertical-align: middle;\n",
       "    }\n",
       "\n",
       "    .dataframe tbody tr th {\n",
       "        vertical-align: top;\n",
       "    }\n",
       "\n",
       "    .dataframe thead th {\n",
       "        text-align: right;\n",
       "    }\n",
       "</style>\n",
       "<table border=\"1\" class=\"dataframe\">\n",
       "  <thead>\n",
       "    <tr style=\"text-align: right;\">\n",
       "      <th></th>\n",
       "      <th>Run</th>\n",
       "      <th>AD</th>\n",
       "    </tr>\n",
       "  </thead>\n",
       "  <tbody>\n",
       "    <tr>\n",
       "      <th>0</th>\n",
       "      <td>sub-OAS30001_ses-d0129_run-01</td>\n",
       "      <td>0</td>\n",
       "    </tr>\n",
       "    <tr>\n",
       "      <th>1</th>\n",
       "      <td>sub-OAS30001_ses-d0129_run-02</td>\n",
       "      <td>0</td>\n",
       "    </tr>\n",
       "    <tr>\n",
       "      <th>2</th>\n",
       "      <td>sub-OAS30001_ses-d0757_run-01</td>\n",
       "      <td>0</td>\n",
       "    </tr>\n",
       "    <tr>\n",
       "      <th>3</th>\n",
       "      <td>sub-OAS30001_ses-d0757_run-02</td>\n",
       "      <td>0</td>\n",
       "    </tr>\n",
       "    <tr>\n",
       "      <th>4</th>\n",
       "      <td>sub-OAS30001_ses-d2430</td>\n",
       "      <td>0</td>\n",
       "    </tr>\n",
       "    <tr>\n",
       "      <th>5</th>\n",
       "      <td>sub-OAS30001_ses-d3132</td>\n",
       "      <td>0</td>\n",
       "    </tr>\n",
       "    <tr>\n",
       "      <th>6</th>\n",
       "      <td>sub-OAS30002_ses-d0371</td>\n",
       "      <td>0</td>\n",
       "    </tr>\n",
       "  </tbody>\n",
       "</table>\n",
       "</div>"
      ],
      "text/plain": [
       "                             Run  AD\n",
       "0  sub-OAS30001_ses-d0129_run-01   0\n",
       "1  sub-OAS30001_ses-d0129_run-02   0\n",
       "2  sub-OAS30001_ses-d0757_run-01   0\n",
       "3  sub-OAS30001_ses-d0757_run-02   0\n",
       "4         sub-OAS30001_ses-d2430   0\n",
       "5         sub-OAS30001_ses-d3132   0\n",
       "6         sub-OAS30002_ses-d0371   0"
      ]
     },
     "execution_count": 59,
     "metadata": {},
     "output_type": "execute_result"
    }
   ],
   "source": [
    "Labelsdf"
   ]
  },
  {
   "cell_type": "code",
   "execution_count": 60,
   "metadata": {},
   "outputs": [],
   "source": [
    "Labelsdf.to_csv(\"./Data/Labels.csv\")"
   ]
  },
  {
   "cell_type": "code",
   "execution_count": null,
   "metadata": {},
   "outputs": [],
   "source": []
  }
 ],
 "metadata": {
  "kernelspec": {
   "display_name": "Python 3",
   "language": "python",
   "name": "python3"
  },
  "language_info": {
   "codemirror_mode": {
    "name": "ipython",
    "version": 3
   },
   "file_extension": ".py",
   "mimetype": "text/x-python",
   "name": "python",
   "nbconvert_exporter": "python",
   "pygments_lexer": "ipython3",
   "version": "3.7.3"
  }
 },
 "nbformat": 4,
 "nbformat_minor": 2
}
