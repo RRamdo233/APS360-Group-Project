{
 "cells": [
  {
   "cell_type": "code",
   "execution_count": 13,
   "metadata": {},
   "outputs": [],
   "source": [
    "import torch\n",
    "import torch.nn as nn\n",
    "import torch.nn.functional as F\n",
    "import torch.optim as optim\n",
    "import numpy as np\n",
    "import matplotlib.pyplot as plt\n",
    "import pandas as pd"
   ]
  },
  {
   "cell_type": "code",
   "execution_count": 15,
   "metadata": {},
   "outputs": [
    {
     "name": "stdout",
     "output_type": "stream",
     "text": [
      "Path to cognitive assesment csv: ./Data/matthewl225_7_15_2019_16_11_22.csv\n"
     ]
    }
   ],
   "source": [
    "#import congitive assessment spreadsheet\n",
    "#path = \"./Data/matthewl225_7_15_2019_16_11_22.csv\"\n",
    "path = input('Path to cognitive assesment csv: ')\n",
    "header = ['ADRC_ADRCCLINICALDATA ID', 'dx1']\n",
    "\n",
    "#dfcolumns = pd.read_csv(path, nrows = 1)\n",
    "df = pd.read_csv(path, header = None, skiprows = 1, usecols = [0,8], names = header)\n",
    "\n",
    "#df = pd.read_csv(path, names=header, index_col=False)"
   ]
  },
  {
   "cell_type": "code",
   "execution_count": 16,
   "metadata": {},
   "outputs": [
    {
     "data": {
      "text/plain": [
       "(6224, 2)"
      ]
     },
     "execution_count": 16,
     "metadata": {},
     "output_type": "execute_result"
    }
   ],
   "source": [
    "df.shape"
   ]
  },
  {
   "cell_type": "code",
   "execution_count": 17,
   "metadata": {},
   "outputs": [
    {
     "data": {
      "text/html": [
       "<div>\n",
       "<style scoped>\n",
       "    .dataframe tbody tr th:only-of-type {\n",
       "        vertical-align: middle;\n",
       "    }\n",
       "\n",
       "    .dataframe tbody tr th {\n",
       "        vertical-align: top;\n",
       "    }\n",
       "\n",
       "    .dataframe thead th {\n",
       "        text-align: right;\n",
       "    }\n",
       "</style>\n",
       "<table border=\"1\" class=\"dataframe\">\n",
       "  <thead>\n",
       "    <tr style=\"text-align: right;\">\n",
       "      <th></th>\n",
       "      <th>ADRC_ADRCCLINICALDATA ID</th>\n",
       "      <th>dx1</th>\n",
       "    </tr>\n",
       "  </thead>\n",
       "  <tbody>\n",
       "    <tr>\n",
       "      <th>0</th>\n",
       "      <td>OAS30001_ClinicalData_d0000</td>\n",
       "      <td>Cognitively normal</td>\n",
       "    </tr>\n",
       "    <tr>\n",
       "      <th>1</th>\n",
       "      <td>OAS30001_ClinicalData_d0339</td>\n",
       "      <td>Cognitively normal</td>\n",
       "    </tr>\n",
       "    <tr>\n",
       "      <th>2</th>\n",
       "      <td>OAS30001_ClinicalData_d0722</td>\n",
       "      <td>Cognitively normal</td>\n",
       "    </tr>\n",
       "  </tbody>\n",
       "</table>\n",
       "</div>"
      ],
      "text/plain": [
       "      ADRC_ADRCCLINICALDATA ID                 dx1\n",
       "0  OAS30001_ClinicalData_d0000  Cognitively normal\n",
       "1  OAS30001_ClinicalData_d0339  Cognitively normal\n",
       "2  OAS30001_ClinicalData_d0722  Cognitively normal"
      ]
     },
     "execution_count": 17,
     "metadata": {},
     "output_type": "execute_result"
    }
   ],
   "source": [
    "df[:3]"
   ]
  },
  {
   "cell_type": "code",
   "execution_count": 18,
   "metadata": {},
   "outputs": [
    {
     "data": {
      "text/plain": [
       "array(['Cognitively normal', 'uncertain dementia',\n",
       "       'Unc: ques. Impairment', 'AD dem w/depresss- not contribut',\n",
       "       'AD Dementia', 'AD dem distrubed social- with',\n",
       "       'AD dem w/CVD contribut', 'Non AD dem- Other primary',\n",
       "       'AD dem visuospatial- with', 'AD dem visuospatial- prior',\n",
       "       'AD dem Language dysf after', '.',\n",
       "       'uncertain- possible NON AD dem', 'Vascular Demt- primary',\n",
       "       'AD dem w/PDI after AD dem not contrib', '0.5 in memory only',\n",
       "       'Incipient Non-AD dem', 'AD dem distrubed social- prior',\n",
       "       'Frontotemporal demt. prim', 'AD dem distrubed social- after',\n",
       "       'AD dem w/PDI after AD dem contribut',\n",
       "       'uncertain  possible NON AD dem',\n",
       "       'AD dem w/depresss  not contribut',\n",
       "       'AD dem w/oth (list B) contribut', 'DLBD- primary',\n",
       "       'Incipient demt PTP', 'Dementia/PD- primary',\n",
       "       'AD dem w/depresss- contribut', 'Unc: impair reversible',\n",
       "       'AD dem w/oth (list B) not contrib', 'AD dem w/CVD not contrib',\n",
       "       'AD dem Language dysf prior', 'AD dem Language dysf with', 'DAT',\n",
       "       'Vascular Demt  primary', 'DLBD- secondary',\n",
       "       'AD dem w/oth unusual features', 'ProAph w/o dement',\n",
       "       'AD dem cannot be primary', 'Vascular Demt- secondary',\n",
       "       'No dementia', 'AD dem w/oth unusual feat/subs demt',\n",
       "       'AD dem w/depresss  contribut', 'DLBD, primary', nan,\n",
       "       'AD dem visuospatial, after', 'DAT w/depresss not contribut',\n",
       "       'AD dem w/oth unusual features/demt on',\n",
       "       'AD dem w/Frontal lobe/demt at onset',\n",
       "       'AD dem/FLD prior to AD dem', 'AD dem w/depresss, not contribut'],\n",
       "      dtype=object)"
      ]
     },
     "execution_count": 18,
     "metadata": {},
     "output_type": "execute_result"
    }
   ],
   "source": [
    "df.dx1.unique()"
   ]
  },
  {
   "cell_type": "code",
   "execution_count": 25,
   "metadata": {},
   "outputs": [],
   "source": [
    "import scipy.misc, numpy, shutil, os, nibabel\n",
    "import sys, getopt\n",
    "import zipfile, os"
   ]
  },
  {
   "cell_type": "code",
   "execution_count": 47,
   "metadata": {},
   "outputs": [
    {
     "name": "stdout",
     "output_type": "stream",
     "text": [
      "Path to nii zip: ./Data/matthewl225-20190721_222252.zip\n"
     ]
    }
   ],
   "source": [
    "#unzip nii package\n",
    "package_path = input('Path to nii zip: ')\n",
    "with zipfile.ZipFile(package_path, \"r\") as zip_ref:\n",
    "    zip_ref.extractall(\"./Data/Nii\")"
   ]
  },
  {
   "cell_type": "code",
   "execution_count": 49,
   "metadata": {},
   "outputs": [],
   "source": [
    "import gzip\n",
    "\n",
    "#unzip individual run nii pakcages\n",
    "nii_package_path = \"./Data/Nii\"\n",
    "output_path = \"./Data/Nii2\"\n",
    "for root, directories, filenames in os.walk(nii_package_path):\n",
    "    for filename in filenames:\n",
    "        run_package = os.path.join(root, filename)\n",
    "        with gzip.open(run_package, 'rb') as s_file, open(os.path.join(output_path, filename[:-3]), 'wb') as d_file:\n",
    "            shutil.copyfileobj(s_file, d_file, 65536)\n",
    "            #shutil.move(d_file, output_path)\n",
    "                "
   ]
  },
  {
   "cell_type": "code",
   "execution_count": 58,
   "metadata": {},
   "outputs": [
    {
     "name": "stdout",
     "output_type": "stream",
     "text": [
      "Enter rotate angle (0 90 180 270): 90\n",
      "Input file is  ./Data/Nii2\\sub-OAS30001_ses-d0129_run-01_T1w.nii\n",
      "Created ouput directory: ./Data/Images\n",
      "Created ouput directory: ./Data/Images\\sub-OAS30001_ses-d0129_run-01\n",
      "Reading NIfTI file...\n"
     ]
    },
    {
     "name": "stderr",
     "output_type": "stream",
     "text": [
      "C:\\ProgramData\\Anaconda3\\lib\\site-packages\\ipykernel_launcher.py:57: DeprecationWarning: `imsave` is deprecated!\n",
      "`imsave` is deprecated in SciPy 1.0.0, and will be removed in 1.2.0.\n",
      "Use ``imageio.imwrite`` instead.\n"
     ]
    },
    {
     "name": "stdout",
     "output_type": "stream",
     "text": [
      "Finished converting sub-OAS30001_ses-d0129_run-01_T1w.nii\n",
      "Input file is  ./Data/Nii2\\sub-OAS30001_ses-d0129_run-02_T1w.nii\n",
      "Created ouput directory: ./Data/Images\\sub-OAS30001_ses-d0129_run-02\n",
      "Reading NIfTI file...\n",
      "Finished converting sub-OAS30001_ses-d0129_run-02_T1w.nii\n",
      "Input file is  ./Data/Nii2\\sub-OAS30001_ses-d0757_run-01_T1w.nii\n",
      "Created ouput directory: ./Data/Images\\sub-OAS30001_ses-d0757_run-01\n",
      "Reading NIfTI file...\n",
      "Finished converting sub-OAS30001_ses-d0757_run-01_T1w.nii\n",
      "Input file is  ./Data/Nii2\\sub-OAS30001_ses-d0757_run-02_T1w.nii\n",
      "Created ouput directory: ./Data/Images\\sub-OAS30001_ses-d0757_run-02\n",
      "Reading NIfTI file...\n",
      "Finished converting sub-OAS30001_ses-d0757_run-02_T1w.nii\n",
      "Input file is  ./Data/Nii2\\sub-OAS30001_ses-d2430_T1w.nii\n",
      "Created ouput directory: ./Data/Images\\sub-OAS30001_ses-d2430\n",
      "Reading NIfTI file...\n",
      "Finished converting sub-OAS30001_ses-d2430_T1w.nii\n",
      "Input file is  ./Data/Nii2\\sub-OAS30001_ses-d3132_T1w.nii\n",
      "Created ouput directory: ./Data/Images\\sub-OAS30001_ses-d3132\n",
      "Reading NIfTI file...\n",
      "Finished converting sub-OAS30001_ses-d3132_T1w.nii\n",
      "Input file is  ./Data/Nii2\\sub-OAS30002_ses-d0371_T1w.nii\n",
      "Created ouput directory: ./Data/Images\\sub-OAS30002_ses-d0371\n",
      "Reading NIfTI file...\n",
      "Finished converting sub-OAS30002_ses-d0371_T1w.nii\n"
     ]
    }
   ],
   "source": [
    "#convert nii to png (borrowed from nii2png.py)\n",
    "outputfile = \"./Data/Images\"\n",
    "rotate_angle = int(input('Enter rotate angle (0 90 180 270): '))\n",
    "\n",
    "if not (rotate_angle == 0 or rotate_angle == 90 or rotate_angle == 180 or rotate_angle == 270):\n",
    "    print('You must enter a value that is either 90, 180, or 270. Quitting...')\n",
    "    sys.exit()\n",
    "\n",
    "data_path = \"./Data/Nii2\"\n",
    "for root, directories, filenames in os.walk(data_path):\n",
    "    for filename in filenames:\n",
    "        nii_path = os.path.join(root, filename)\n",
    "        image_array = nibabel.load(nii_path).get_data()\n",
    "        print(\"Input file is \", nii_path)\n",
    "        #print(len(image_array.shape))\n",
    "        \n",
    "        \n",
    "        # else if 3D image inputted\n",
    "        if len(image_array.shape) == 3:\n",
    "            # set 4d array dimension values\n",
    "            nx, ny, nz = image_array.shape\n",
    "\n",
    "            if not os.path.exists(outputfile):\n",
    "                os.makedirs(outputfile)\n",
    "                print(\"Created ouput directory: \" + outputfile)\n",
    "            \n",
    "            image_folder = os.path.join(outputfile, filename[:-8])\n",
    "            \n",
    "            if not os.path.exists(image_folder):\n",
    "                os.makedirs(image_folder)\n",
    "                print(\"Created ouput directory: \" + image_folder)\n",
    "            \n",
    "            print('Reading NIfTI file...')\n",
    "\n",
    "            total_slices = image_array.shape[2]\n",
    "\n",
    "            slice_counter = 0\n",
    "            # iterate through slices\n",
    "            for current_slice in range(0, total_slices):\n",
    "                # alternate slices\n",
    "                if (slice_counter % 1) == 0:\n",
    "                    # rotate or no rotate\n",
    "                    if rotate_angle == 90 or rotate_angle == 180 or rotate_angle == 270:\n",
    "                        if rotate_angle == 90:\n",
    "                            data = numpy.rot90(image_array[:, :, current_slice])\n",
    "                        elif ask_rotate_num == 180:\n",
    "                            data = numpy.rot90(numpy.rot90(image_array[:, :, current_slice]))\n",
    "                        elif ask_rotate_num == 270:\n",
    "                            data = numpy.rot90(numpy.rot90(numpy.rot90(image_array[:, :, current_slice])))\n",
    "                    else:\n",
    "                        data = image_array[:, :, current_slice]\n",
    "\n",
    "                    #alternate slices and save as png\n",
    "                    if (slice_counter % 1) == 0:\n",
    "                        #print('Saving image...')\n",
    "                        image_name = nii_path[:-4] + \"_z\" + \"{:0>3}\".format(str(current_slice+1))+ \".png\"\n",
    "                        scipy.misc.imsave(image_name, data)\n",
    "                        #print('Saved.')\n",
    "\n",
    "                        #move images to folder\n",
    "                        #print('Moving image...')\n",
    "                        src = image_name\n",
    "                        shutil.move(src, image_folder)\n",
    "                        slice_counter += 1\n",
    "                        #print('Moved.')\n",
    "\n",
    "            print('Finished converting {}'.format(filename))\n",
    "        else:\n",
    "            print('Not a 3D Image. Please try again.')\n",
    "        \n",
    "\n",
    "\n"
   ]
  },
  {
   "cell_type": "code",
   "execution_count": null,
   "metadata": {},
   "outputs": [],
   "source": []
  }
 ],
 "metadata": {
  "kernelspec": {
   "display_name": "Python 3",
   "language": "python",
   "name": "python3"
  },
  "language_info": {
   "codemirror_mode": {
    "name": "ipython",
    "version": 3
   },
   "file_extension": ".py",
   "mimetype": "text/x-python",
   "name": "python",
   "nbconvert_exporter": "python",
   "pygments_lexer": "ipython3",
   "version": "3.7.3"
  }
 },
 "nbformat": 4,
 "nbformat_minor": 2
}
